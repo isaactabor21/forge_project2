{
  "cells": [
    {
      "cell_type": "markdown",
      "metadata": {
        "id": "KJyao4Hj3V_f"
      },
      "source": [
        "## SeaSnakestoSQL: Jupyter Notebook"
      ]
    },
    {
      "cell_type": "markdown",
      "source": [
        "This is a Jupyter Notebook that contains code to create our SQL Database for a Learning Management System. Our main goal was to create an effective relational database with the primary objective of ensuring that it could be used to calculate someone's grades. We then compared it with a MongoDB Database that we created and queried in this GitHub Repository as well."
      ],
      "metadata": {
        "id": "pYZQFBwnKwF1"
      }
    },
    {
      "cell_type": "code",
      "execution_count": null,
      "metadata": {
        "scrolled": true,
        "tags": [],
        "id": "Y3b6Itj-KeLE",
        "outputId": "a8ae004b-24b9-4e68-d6c4-d676b86339c4"
      },
      "outputs": [
        {
          "name": "stdout",
          "output_type": "stream",
          "text": [
            "Requirement already satisfied: pymysql in ./anaconda3/lib/python3.11/site-packages (1.1.1)\n",
            "Note: you may need to restart the kernel to use updated packages.\n"
          ]
        }
      ],
      "source": [
        "pip install pymysql"
      ]
    },
    {
      "cell_type": "code",
      "execution_count": null,
      "metadata": {
        "id": "pL3MK37u3V_h",
        "tags": []
      },
      "outputs": [],
      "source": [
        "import sqlalchemy\n",
        "import pymysql\n",
        "from sqlalchemy import create_engine\n",
        "import pandas as pd"
      ]
    },
    {
      "cell_type": "markdown",
      "metadata": {
        "id": "EXYCzm4f60Tt"
      },
      "source": [
        "If you get an error saying something like \"sqlalchemy not installed\", you should add a code cell and write `pip install sqlalchemy`. Then, rerun the above cell (you might also need to install pymysql the same way)"
      ]
    },
    {
      "cell_type": "markdown",
      "metadata": {
        "id": "wU03NjGpKeLG"
      },
      "source": [
        "## Setting up the Tables"
      ]
    },
    {
      "cell_type": "markdown",
      "source": [
        "First, create a database in MySQL Workbench by running this query:\n",
        "\n",
        "`CREATE DATABASE test_forge`"
      ],
      "metadata": {
        "id": "BaL5J4EjAMjI"
      }
    },
    {
      "cell_type": "code",
      "execution_count": null,
      "metadata": {
        "id": "dQADRimI3V_j",
        "tags": []
      },
      "outputs": [],
      "source": [
        "password = 'ForgeIsAwesome1234'\n",
        "db_name = 'test_forge'"
      ]
    },
    {
      "cell_type": "code",
      "execution_count": null,
      "metadata": {
        "id": "wkVFDxfq3V_j",
        "tags": []
      },
      "outputs": [],
      "source": [
        "conn = pymysql.connect(host='127.0.0.1', port=3306, user='root', password=password, database=db_name)"
      ]
    },
    {
      "cell_type": "code",
      "execution_count": null,
      "metadata": {
        "id": "8_4eHzso3V_j"
      },
      "outputs": [],
      "source": [
        "connection = create_engine(\"mysql+pymysql://root:\" + password + \"@localhost:3306/\" + db_name)"
      ]
    },
    {
      "cell_type": "code",
      "execution_count": null,
      "metadata": {
        "id": "UUtddbLZ21do"
      },
      "outputs": [],
      "source": [
        "Courses = pd.read_csv(\"https://raw.githubusercontent.com/methinky/forge_project2/main/test_forge%20-%20Courses.csv\")"
      ]
    },
    {
      "cell_type": "code",
      "execution_count": null,
      "metadata": {
        "id": "5ktGrJYM28Zl"
      },
      "outputs": [],
      "source": [
        "table_name = 'Courses'"
      ]
    },
    {
      "cell_type": "code",
      "execution_count": null,
      "metadata": {
        "id": "1jna0HT821kQ",
        "outputId": "37d2484b-3b6a-4c23-fa9c-06f976164a49"
      },
      "outputs": [
        {
          "data": {
            "text/plain": [
              "12"
            ]
          },
          "execution_count": 30,
          "metadata": {},
          "output_type": "execute_result"
        }
      ],
      "source": [
        "Courses.to_sql(name=table_name, con=connection, if_exists='replace', index=False)"
      ]
    },
    {
      "cell_type": "code",
      "execution_count": null,
      "metadata": {
        "id": "F8LiiJUW3V_k"
      },
      "outputs": [],
      "source": [
        "StudentClasses = pd.read_csv(\"https://raw.githubusercontent.com/methinky/forge_project2/main/test_forge%20-%20StudentClasses%20(2).csv\")"
      ]
    },
    {
      "cell_type": "code",
      "execution_count": null,
      "metadata": {
        "id": "fx9qYzW53V_l"
      },
      "outputs": [],
      "source": [
        "table_name2 = 'StudentClasses'"
      ]
    },
    {
      "cell_type": "code",
      "execution_count": null,
      "metadata": {
        "colab": {
          "base_uri": "https://localhost:8080/",
          "height": 166
        },
        "id": "v_9HNcLm3V_m",
        "outputId": "b28d2a65-c655-4dbe-eba7-ed49e1cf948a"
      },
      "outputs": [
        {
          "data": {
            "text/plain": [
              "60"
            ]
          },
          "execution_count": 36,
          "metadata": {},
          "output_type": "execute_result"
        }
      ],
      "source": [
        "StudentClasses.to_sql(name=table_name2, con=connection, if_exists='replace', index=False)"
      ]
    },
    {
      "cell_type": "code",
      "execution_count": null,
      "metadata": {
        "tags": [],
        "id": "6xjGltsrKeLH"
      },
      "outputs": [],
      "source": [
        "Students = pd.read_csv(\"https://raw.githubusercontent.com/methinky/forge_project2/main/test_forge%20-%20Students.csv\")"
      ]
    },
    {
      "cell_type": "code",
      "execution_count": null,
      "metadata": {
        "tags": [],
        "id": "lZHPX66OKeLH"
      },
      "outputs": [],
      "source": [
        "table_name3 = 'Students'"
      ]
    },
    {
      "cell_type": "code",
      "execution_count": null,
      "metadata": {
        "tags": [],
        "id": "Dg_6kRlRKeLH",
        "outputId": "42da0446-b519-4032-8232-da31c3e1dd3e"
      },
      "outputs": [
        {
          "data": {
            "text/plain": [
              "16"
            ]
          },
          "execution_count": 39,
          "metadata": {},
          "output_type": "execute_result"
        }
      ],
      "source": [
        "Students.to_sql(name=table_name3, con=connection, if_exists='replace', index=False)"
      ]
    },
    {
      "cell_type": "code",
      "execution_count": null,
      "metadata": {
        "tags": [],
        "id": "RcX9ahJhKeLH"
      },
      "outputs": [],
      "source": [
        "Assignments = pd.read_csv(\"https://raw.githubusercontent.com/methinky/forge_project2/main/test_forge%20-%20Assignments%20(1).csv\")"
      ]
    },
    {
      "cell_type": "code",
      "execution_count": null,
      "metadata": {
        "tags": [],
        "id": "A9y8ik32KeLI"
      },
      "outputs": [],
      "source": [
        "table_name4 = 'Assignments'"
      ]
    },
    {
      "cell_type": "code",
      "execution_count": null,
      "metadata": {
        "tags": [],
        "id": "FX5dPEmdKeLI",
        "outputId": "9943fb08-c1d6-4499-91c5-45412be58b2f"
      },
      "outputs": [
        {
          "data": {
            "text/plain": [
              "52"
            ]
          },
          "execution_count": 42,
          "metadata": {},
          "output_type": "execute_result"
        }
      ],
      "source": [
        "Assignments.to_sql(name=table_name4, con=connection, if_exists='replace', index=False)"
      ]
    },
    {
      "cell_type": "code",
      "execution_count": null,
      "metadata": {
        "tags": [],
        "id": "Nkdryg7gKeLI"
      },
      "outputs": [],
      "source": [
        "Grades = pd.read_csv(\"https://raw.githubusercontent.com/methinky/forge_project2/main/test_forge%20-%20Grades%20(1).csv\")"
      ]
    },
    {
      "cell_type": "code",
      "execution_count": null,
      "metadata": {
        "tags": [],
        "id": "JXlgeP2IKeLI"
      },
      "outputs": [],
      "source": [
        "table_name5 = 'Grades'"
      ]
    },
    {
      "cell_type": "code",
      "execution_count": null,
      "metadata": {
        "tags": [],
        "id": "Ivn6S636KeLI",
        "outputId": "60d9e8a9-1160-4a09-febf-db363e7a30da"
      },
      "outputs": [
        {
          "data": {
            "text/plain": [
              "240"
            ]
          },
          "execution_count": 45,
          "metadata": {},
          "output_type": "execute_result"
        }
      ],
      "source": [
        "Grades.to_sql(name=table_name5, con=connection, if_exists='replace', index=False)"
      ]
    },
    {
      "cell_type": "markdown",
      "metadata": {
        "id": "K-lpJSKmKeLI"
      },
      "source": [
        "## QUERY"
      ]
    },
    {
      "cell_type": "markdown",
      "metadata": {
        "id": "aOmCA5gd5BiV"
      },
      "source": [
        "We use SQL syntax for querying. The triple quotation mark syntax allows us to write commands simiar to how we did in SQL"
      ]
    },
    {
      "cell_type": "markdown",
      "source": [
        "This is how you can now query for someone's grades with our SQL Database!"
      ],
      "metadata": {
        "id": "8IScPxlGLwEq"
      }
    },
    {
      "cell_type": "code",
      "execution_count": null,
      "metadata": {
        "id": "Jv7YkgW03V_m"
      },
      "outputs": [],
      "source": [
        "query1 = '''\n",
        "SELECT s.Student_ID, a.Code, s.First_Name, s.Last_Name,\n",
        "       c.Course_Name,\n",
        "       SUM(g.Score * a.Weight) / SUM(a.Weight) AS CourseGrade\n",
        "FROM Grades AS g\n",
        "INNER JOIN Assignments a\n",
        "ON g.Assignment_Id = a.Assignment_Id\n",
        "INNER JOIN Courses AS c\n",
        "ON a.Code = c.Code\n",
        "INNER JOIN StudentClasses AS sc\n",
        "ON c.Code = sc.Code\n",
        "INNER JOIN Students AS s\n",
        "ON sc.Student_ID = s.Student_ID\n",
        "WHERE s.Student_ID = 'zds3st'\n",
        "GROUP BY s.Student_ID, a.Code, s.First_Name, s.Last_Name, c.Course_Name;'''"
      ]
    },
    {
      "cell_type": "code",
      "execution_count": null,
      "metadata": {
        "id": "GtcaW8xg3V_n"
      },
      "outputs": [],
      "source": [
        "result_df = pd.read_sql(query1, con=connection)"
      ]
    },
    {
      "cell_type": "code",
      "execution_count": null,
      "metadata": {
        "id": "swupxQK03V_o"
      },
      "outputs": [],
      "source": [
        "result_df"
      ]
    }
  ],
  "metadata": {
    "colab": {
      "provenance": []
    },
    "kernelspec": {
      "display_name": "Python 3 (ipykernel)",
      "language": "python",
      "name": "python3"
    },
    "language_info": {
      "codemirror_mode": {
        "name": "ipython",
        "version": 3
      },
      "file_extension": ".py",
      "mimetype": "text/x-python",
      "name": "python",
      "nbconvert_exporter": "python",
      "pygments_lexer": "ipython3",
      "version": "3.11.5"
    }
  },
  "nbformat": 4,
  "nbformat_minor": 0
}